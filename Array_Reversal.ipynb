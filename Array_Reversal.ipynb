{
  "nbformat": 4,
  "nbformat_minor": 0,
  "metadata": {
    "colab": {
      "provenance": [],
      "authorship_tag": "ABX9TyPPlsVPBGFVyIapUn345bGj",
      "include_colab_link": true
    },
    "kernelspec": {
      "name": "python3",
      "display_name": "Python 3"
    },
    "language_info": {
      "name": "python"
    }
  },
  "cells": [
    {
      "cell_type": "markdown",
      "metadata": {
        "id": "view-in-github",
        "colab_type": "text"
      },
      "source": [
        "<a href=\"https://colab.research.google.com/github/OwagaCJ/Explore-AI-Python/blob/main/Array_Reversal.ipynb\" target=\"_parent\"><img src=\"https://colab.research.google.com/assets/colab-badge.svg\" alt=\"Open In Colab\"/></a>"
      ]
    },
    {
      "cell_type": "code",
      "source": [
        "## list to be reversed\n",
        "\n",
        "arr = [1,4,6,8,11,78]"
      ],
      "metadata": {
        "id": "QAdlKuRjSUY8"
      },
      "execution_count": 1,
      "outputs": []
    },
    {
      "cell_type": "code",
      "source": [
        "## reversing the list using list slicing\n",
        "\n",
        "def reversal(arr):\n",
        "  reversed_arr = arr[::-1]\n",
        "\n",
        "  return reversed_arr"
      ],
      "metadata": {
        "id": "3INN7Ivv0oCG"
      },
      "execution_count": 2,
      "outputs": []
    },
    {
      "cell_type": "code",
      "source": [
        "## reversing list using the negative indexing concept\n",
        "\n",
        "def list_reversal(arr):\n",
        "  ans = []\n",
        "  for idx in range(1,len(arr)+1):\n",
        "    ans.append(arr[-idx])\n",
        "  return ans"
      ],
      "metadata": {
        "id": "ukXWw3Q178In"
      },
      "execution_count": 3,
      "outputs": []
    },
    {
      "cell_type": "code",
      "source": [
        "## 2 pointer approach for array reversal\n",
        "\n",
        "def two_pointer_reversal(arr):\n",
        "  # calculate size of array\n",
        "  n = len(arr)\n",
        "  i = 0\n",
        "  j = n-1\n",
        "\n",
        "  #create the while loop\n",
        "  while i < j:\n",
        "    #swap the elements between arr[i] and arr[j]\n",
        "    arr[i],arr[j] = arr[j], arr[i]\n",
        "\n",
        "    # increment the value of i by 1 and decrement the value of j by 1\n",
        "    i += 1\n",
        "    j -= 1\n",
        "  return arr"
      ],
      "metadata": {
        "id": "HWBG5qlNTosn"
      },
      "execution_count": 4,
      "outputs": []
    },
    {
      "cell_type": "code",
      "source": [
        " # Print solution 1\n",
        "\n",
        " reversal(arr)"
      ],
      "metadata": {
        "colab": {
          "base_uri": "https://localhost:8080/"
        },
        "id": "Zgdn_6vGYcEq",
        "outputId": "217e09b9-13e7-4b8a-cfd4-148744cb77e8"
      },
      "execution_count": 5,
      "outputs": [
        {
          "output_type": "execute_result",
          "data": {
            "text/plain": [
              "[78, 11, 8, 6, 4, 1]"
            ]
          },
          "metadata": {},
          "execution_count": 5
        }
      ]
    },
    {
      "cell_type": "code",
      "source": [
        "# Print Solution 2\n",
        "list_reversal(arr)"
      ],
      "metadata": {
        "colab": {
          "base_uri": "https://localhost:8080/"
        },
        "id": "eaBZ-M97Yj6p",
        "outputId": "870ca8f9-db4b-4cfe-a93d-62105f99c0fe"
      },
      "execution_count": 6,
      "outputs": [
        {
          "output_type": "execute_result",
          "data": {
            "text/plain": [
              "[78, 11, 8, 6, 4, 1]"
            ]
          },
          "metadata": {},
          "execution_count": 6
        }
      ]
    },
    {
      "cell_type": "code",
      "source": [
        "#Print Solution 3\n",
        "\n",
        "two_pointer_reversal(arr)"
      ],
      "metadata": {
        "colab": {
          "base_uri": "https://localhost:8080/"
        },
        "id": "5qVOVRvZ8oEW",
        "outputId": "139ccaf5-bb39-4aa9-f133-a804cfd80b73"
      },
      "execution_count": 7,
      "outputs": [
        {
          "output_type": "execute_result",
          "data": {
            "text/plain": [
              "[78, 11, 8, 6, 4, 1]"
            ]
          },
          "metadata": {},
          "execution_count": 7
        }
      ]
    }
  ]
}