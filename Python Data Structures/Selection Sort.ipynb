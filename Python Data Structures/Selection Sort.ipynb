{
 "cells": [
  {
   "cell_type": "code",
   "execution_count": 9,
   "id": "d0f71258",
   "metadata": {},
   "outputs": [],
   "source": [
    "## function definition\n",
    "\n",
    "def SelectionSort(arr):\n",
    "    n = len(arr)\n",
    "    for i in range(n):\n",
    "        #stores the index of the minimum element\n",
    "        min_idx = i\n",
    "        for j in range(i+1, n):\n",
    "            if arr[j] < arr[min_idx]:\n",
    "                min_idx = j\n",
    "\n",
    "        ## swap of the element at i and min_idx\n",
    "        arr[i], arr[min_idx] = arr[min_idx], arr[i]\n",
    "        return arr"
   ]
  },
  {
   "cell_type": "code",
   "execution_count": 11,
   "id": "201f2b37",
   "metadata": {},
   "outputs": [
    {
     "name": "stdout",
     "output_type": "stream",
     "text": [
      "[11, 38, 75, 29, 50, 20, 37]\n"
     ]
    }
   ],
   "source": [
    "## Code Driver\n",
    "arr = [50,38,75,29,11,20,37]\n",
    "\n",
    "result = SelectionSort(arr)\n",
    "\n",
    "print(result)"
   ]
  },
  {
   "cell_type": "code",
   "execution_count": null,
   "id": "e9119cc5",
   "metadata": {},
   "outputs": [],
   "source": []
  }
 ],
 "metadata": {
  "kernelspec": {
   "display_name": "Python 3 (ipykernel)",
   "language": "python",
   "name": "python3"
  },
  "language_info": {
   "codemirror_mode": {
    "name": "ipython",
    "version": 3
   },
   "file_extension": ".py",
   "mimetype": "text/x-python",
   "name": "python",
   "nbconvert_exporter": "python",
   "pygments_lexer": "ipython3",
   "version": "3.11.5"
  }
 },
 "nbformat": 4,
 "nbformat_minor": 5
}
