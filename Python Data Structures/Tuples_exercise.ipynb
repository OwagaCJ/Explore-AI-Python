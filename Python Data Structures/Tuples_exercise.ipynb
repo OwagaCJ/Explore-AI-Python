{
 "cells": [
  {
   "cell_type": "markdown",
   "id": "1a8f72ba",
   "metadata": {},
   "source": [
    "<div align=\"center\" style=\" font-size: 80%; text-align: center; margin: 0 auto\">\n",
    "<img src=\"https://raw.githubusercontent.com/Explore-AI/Pictures/master/Python-Notebook-Banners/Exercise.png\"  style=\"display: block; margin-left: auto; margin-right: auto;\";/>\n",
    "</div>"
   ]
  },
  {
   "cell_type": "markdown",
   "id": "f662d169",
   "metadata": {},
   "source": [
    "# Exercise: Tuples\n",
    "© ExploreAI Academy"
   ]
  },
  {
   "cell_type": "markdown",
   "id": "3fffe403",
   "metadata": {},
   "source": [
    "In this exercise, we are going to solve problems involving tuples."
   ]
  },
  {
   "cell_type": "markdown",
   "id": "2d230d14",
   "metadata": {
    "tags": []
   },
   "source": [
    "## Learning objectives\n",
    "\n",
    "- Create, concatenate, and slice tuples.\n",
    "- Make use of tuple methods.\n",
    "- Unpack a tuple."
   ]
  },
  {
   "cell_type": "markdown",
   "id": "6d305bd2",
   "metadata": {},
   "source": [
    "## Exercises"
   ]
  },
  {
   "cell_type": "markdown",
   "id": "5a0b7683",
   "metadata": {
    "tags": []
   },
   "source": [
    "### Exercise 1\n",
    "\n",
    "1. Create a tuple named `tree_tuple` containing three elements: `8`, `'apple'`, and `'Granny Smith'`.\n"
   ]
  },
  {
   "cell_type": "code",
   "execution_count": 3,
   "id": "ca40207e",
   "metadata": {
    "vscode": {
     "languageId": "plaintext"
    }
   },
   "outputs": [
    {
     "name": "stdout",
     "output_type": "stream",
     "text": [
      "(8, 'apple', 'Granny Smith')\n",
      "<class 'tuple'>\n"
     ]
    }
   ],
   "source": [
    "# Create a tuple named tree_tuple\n",
    "tree_tuple = (8, 'apple', 'Granny Smith')\n",
    "\n",
    "#Print the tuple\n",
    "print(tree_tuple)\n",
    "\n",
    "# check that tree_tuple is, in fact, a tuple.\n",
    "print(type(tree_tuple))"
   ]
  },
  {
   "cell_type": "markdown",
   "id": "5f37ca4c",
   "metadata": {},
   "source": [
    "Note: We can use the `type()` function to check that `tree_tuple` is, in fact, a tuple."
   ]
  },
  {
   "cell_type": "markdown",
   "id": "fb6d5acd",
   "metadata": {},
   "source": [
    "<br>\n",
    "\n",
    "2. Find the length of the tuple.\n"
   ]
  },
  {
   "cell_type": "code",
   "execution_count": 4,
   "id": "0b5ccea5",
   "metadata": {},
   "outputs": [
    {
     "name": "stdout",
     "output_type": "stream",
     "text": [
      "3\n"
     ]
    }
   ],
   "source": [
    "# Find the length of the tuple.\n",
    "print(len(tree_tuple))\n"
   ]
  },
  {
   "cell_type": "markdown",
   "id": "83911c8e",
   "metadata": {},
   "source": [
    "<br>\n",
    "\n",
    "3. Access the second element, `'apple'`, in the `tree_tuple` using an index and assign the value to a variable called `fruit`. Print the variable. "
   ]
  },
  {
   "cell_type": "code",
   "execution_count": 10,
   "id": "52f5bc48",
   "metadata": {},
   "outputs": [
    {
     "name": "stdout",
     "output_type": "stream",
     "text": [
      "apple\n"
     ]
    }
   ],
   "source": [
    "# Access the second element, 'apple'\n",
    "fruit = tree_tuple[1]\n",
    "\n",
    "print(fruit)\n"
   ]
  },
  {
   "cell_type": "markdown",
   "id": "ab6f589c",
   "metadata": {},
   "source": [
    "<br>\n",
    "\n",
    "4. Attempt to change the value of `'apple'` in `tree_tuple` to `'pear'` using assignment.\n"
   ]
  },
  {
   "cell_type": "code",
   "execution_count": 6,
   "id": "0eb3a78f",
   "metadata": {},
   "outputs": [
    {
     "ename": "TypeError",
     "evalue": "'tuple' object does not support item assignment",
     "output_type": "error",
     "traceback": [
      "\u001b[1;31m---------------------------------------------------------------------------\u001b[0m",
      "\u001b[1;31mTypeError\u001b[0m                                 Traceback (most recent call last)",
      "Cell \u001b[1;32mIn[6], line 2\u001b[0m\n\u001b[0;32m      1\u001b[0m \u001b[38;5;66;03m# Change the value of 'apple' to 'pear' \u001b[39;00m\n\u001b[1;32m----> 2\u001b[0m tree_tuple[\u001b[38;5;241m1\u001b[39m] \u001b[38;5;241m=\u001b[39m \u001b[38;5;124m'\u001b[39m\u001b[38;5;124mpear\u001b[39m\u001b[38;5;124m'\u001b[39m\n\u001b[0;32m      4\u001b[0m \u001b[38;5;28mprint\u001b[39m(tree_tuple[\u001b[38;5;241m1\u001b[39m])\n",
      "\u001b[1;31mTypeError\u001b[0m: 'tuple' object does not support item assignment"
     ]
    }
   ],
   "source": [
    "# Change the value of 'apple' to 'pear' \n",
    "tree_tuple[1] = 'pear'\n",
    "\n",
    "print(tree_tuple[1])"
   ]
  },
  {
   "cell_type": "markdown",
   "id": "ed3af8cf",
   "metadata": {},
   "source": [
    " If you got an error, it's exactly what should happen! **Tuples are immutable** and we cannot alter their contents after creation.\n",
    "   \n",
    " "
   ]
  },
  {
   "cell_type": "markdown",
   "id": "9d80cde9",
   "metadata": {},
   "source": [
    "<br>\n",
    "\n",
    "5. Create a new tuple called `text_only` and place the last two elements of `tree_tuple` into it."
   ]
  },
  {
   "cell_type": "code",
   "execution_count": 9,
   "id": "21fbb221",
   "metadata": {},
   "outputs": [
    {
     "name": "stdout",
     "output_type": "stream",
     "text": [
      "('apple', 'Granny Smith')\n"
     ]
    }
   ],
   "source": [
    "# Create a new tuple called text_only and place the last two elements of tree_tuple into it.\n",
    "\n",
    "text_only = tree_tuple[-2:]\n",
    "\n",
    "print(text_only)\n"
   ]
  },
  {
   "cell_type": "markdown",
   "id": "5e148cac",
   "metadata": {},
   "source": [
    "<br>\n",
    "\n",
    "### Exercise 2\n",
    "\n",
    "1. Create two tuples: `fruit_summer` and `fruit_winter`, with elements (`'peach'`, `'apricot'`, `'plum'`) and (`'lemon'`, `'orange'`, `'grapefruit'`), respectively. Print the tuples to screen in the same print statement.\n"
   ]
  },
  {
   "cell_type": "code",
   "execution_count": 12,
   "id": "6aad0f85",
   "metadata": {
    "vscode": {
     "languageId": "plaintext"
    }
   },
   "outputs": [
    {
     "name": "stdout",
     "output_type": "stream",
     "text": [
      "('peach', 'apricot', 'plum') ('lemon', 'orange', 'grapefruit')\n"
     ]
    }
   ],
   "source": [
    "# Create two tuples: fruit_summer and fruit_winter \n",
    "\n",
    "fruit_summer = ('peach', 'apricot', 'plum')\n",
    "\n",
    "fruit_winter = ('lemon', 'orange', 'grapefruit')\n",
    "\n",
    "# Print the tuples to screen in the same print statement\n",
    "print(fruit_summer, fruit_winter)"
   ]
  },
  {
   "cell_type": "markdown",
   "id": "7baad7aa",
   "metadata": {},
   "source": [
    "<br>\n",
    "\n",
    "2. Combine these following two tuples, `fruit_summer` and `fruit_winter`, to form a new tuple, `all_fruit`. Print the new tuple to the screen."
   ]
  },
  {
   "cell_type": "code",
   "execution_count": 14,
   "id": "7dd8dce1",
   "metadata": {},
   "outputs": [
    {
     "name": "stdout",
     "output_type": "stream",
     "text": [
      "('peach', 'apricot', 'plum', 'lemon', 'orange', 'grapefruit')\n"
     ]
    }
   ],
   "source": [
    "# Combine these following two tuples, fruit_summer and fruit_winter, to form a new tuple, all_fruit\n",
    "all_fruit = fruit_summer + fruit_winter\n",
    "\n",
    "# Print the new tuple to the screen.\n",
    "print(all_fruit)"
   ]
  },
  {
   "cell_type": "markdown",
   "id": "607ed006",
   "metadata": {},
   "source": [
    "<br>\n",
    "\n",
    "3. Confirm how many times the element `'peach'` appears in `all_fruit`."
   ]
  },
  {
   "cell_type": "code",
   "execution_count": 18,
   "id": "5fa8890d",
   "metadata": {},
   "outputs": [
    {
     "name": "stdout",
     "output_type": "stream",
     "text": [
      "0\n"
     ]
    }
   ],
   "source": [
    "# Confirm how many times the element 'peach' appears in all_fruit\n",
    "\n",
    "print(all_fruit.index('peach'))\n"
   ]
  },
  {
   "cell_type": "markdown",
   "id": "616c87fe",
   "metadata": {},
   "source": [
    "<br>\n",
    "\n",
    "4. Suppose we have the `combined_info` tuple shown in the block of code below, containing three elements – the colour of the fruit, the age of the tree, and the type of tree. We'd however like to work with these elements individually and need to create variables (colour, age, tree_type) for each of the elements in the tuple.  "
   ]
  },
  {
   "cell_type": "code",
   "execution_count": 19,
   "id": "ae5c21c1",
   "metadata": {},
   "outputs": [],
   "source": [
    "# combined_info tuple\n",
    "combined_info = ('yellow', 5, 'lemon')\n",
    "\n",
    "# Create variables (colour, age, tree_type) for each of the elements in the tuple\n",
    "colour = combined_info[0]\n",
    "age = combined_info[1]\n",
    "tree_type = combined_info[2] "
   ]
  },
  {
   "cell_type": "markdown",
   "id": "68a84035",
   "metadata": {},
   "source": [
    "Did you use an index to assign the values to variables? If so, also take a look at the solution provided later in this notebook for a fast way of assigning tuple elements to variables! "
   ]
  },
  {
   "cell_type": "markdown",
   "id": "0dde2d59",
   "metadata": {},
   "source": [
    "#  \n",
    "\n",
    "<div align=\"center\" style=\" font-size: 80%; text-align: center; margin: 0 auto\">\n",
    "<img src=\"https://raw.githubusercontent.com/Explore-AI/Pictures/master/ExploreAI_logos/EAI_Blue_Dark.png\"  style=\"width:200px\";/>\n",
    "</div>"
   ]
  }
 ],
 "metadata": {
  "kernelspec": {
   "display_name": "Python 3 (ipykernel)",
   "language": "python",
   "name": "python3"
  },
  "language_info": {
   "codemirror_mode": {
    "name": "ipython",
    "version": 3
   },
   "file_extension": ".py",
   "mimetype": "text/x-python",
   "name": "python",
   "nbconvert_exporter": "python",
   "pygments_lexer": "ipython3",
   "version": "3.11.5"
  }
 },
 "nbformat": 4,
 "nbformat_minor": 5
}
