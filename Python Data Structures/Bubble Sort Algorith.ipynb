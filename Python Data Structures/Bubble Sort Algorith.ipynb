{
 "cells": [
  {
   "cell_type": "code",
   "execution_count": 1,
   "id": "f5f583fa",
   "metadata": {},
   "outputs": [],
   "source": [
    "## Function definition\n",
    "\n",
    "def bubblesort(arr):\n",
    "\tn = len(arr)\n",
    "\tfor i in range(n):\n",
    "\t\tfor j in range(n-i-1):\n",
    "\t\t\tif arr[j] > arr[j+1]:\n",
    "\t\t\t\t## swap the elements\n",
    "\t\t\t\tarr[j], arr[j+1] = arr[j+1], arr[j]\n",
    "\treturn arr"
   ]
  },
  {
   "cell_type": "code",
   "execution_count": 2,
   "id": "d1a27ec7",
   "metadata": {},
   "outputs": [
    {
     "name": "stdout",
     "output_type": "stream",
     "text": [
      "[5, 15, 20, 30, 50, 70, 90]\n"
     ]
    }
   ],
   "source": [
    "## Driver code\n",
    "arr = [70,20,50,30,90,5,15]\n",
    "\n",
    "result = bubblesort(arr)\n",
    "print(result)"
   ]
  },
  {
   "cell_type": "code",
   "execution_count": 3,
   "id": "8d055d42",
   "metadata": {},
   "outputs": [],
   "source": [
    "def bubblesort_inner_only(arr):\n",
    "    n = len(arr)\n",
    "    for j in range(n-1):\n",
    "        if arr[j] > arr[j+1]:\n",
    "            arr[j], arr[j+1] = arr[j+1], arr[j]\n",
    "    return arr"
   ]
  },
  {
   "cell_type": "code",
   "execution_count": 4,
   "id": "4dccdf06",
   "metadata": {},
   "outputs": [
    {
     "data": {
      "text/plain": [
       "[5, 15, 20, 30, 50, 70, 90]"
      ]
     },
     "execution_count": 4,
     "metadata": {},
     "output_type": "execute_result"
    }
   ],
   "source": [
    "bubblesort_inner_only(arr)"
   ]
  }
 ],
 "metadata": {
  "kernelspec": {
   "display_name": "Python 3 (ipykernel)",
   "language": "python",
   "name": "python3"
  },
  "language_info": {
   "codemirror_mode": {
    "name": "ipython",
    "version": 3
   },
   "file_extension": ".py",
   "mimetype": "text/x-python",
   "name": "python",
   "nbconvert_exporter": "python",
   "pygments_lexer": "ipython3",
   "version": "3.11.5"
  }
 },
 "nbformat": 4,
 "nbformat_minor": 5
}
